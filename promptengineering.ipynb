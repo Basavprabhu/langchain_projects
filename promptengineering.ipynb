{
 "cells": [
  {
   "cell_type": "code",
   "execution_count": 1,
   "metadata": {},
   "outputs": [],
   "source": [
    "import os\n",
    "from constants import openai_key\n",
    "os.environ[\"OPENAI_API_KEY\"]=openai_key"
   ]
  },
  {
   "cell_type": "code",
   "execution_count": 2,
   "metadata": {},
   "outputs": [
    {
     "data": {
      "text/plain": [
       "'I want you to act as a acting financial advisor for people.In easy way ,explain the basics of income tax.'"
      ]
     },
     "execution_count": 2,
     "metadata": {},
     "output_type": "execute_result"
    }
   ],
   "source": [
    "from langchain import PromptTemplate\n",
    "\n",
    "demo_template='''I want you to act as a acting financial advisor for people.In easy way ,explain the basics of {financial_concept}.'''\n",
    "\n",
    "prompt=PromptTemplate(\n",
    "    input_variables=['financial_concept'],\n",
    "    template=demo_template\n",
    ")\n",
    "\n",
    "prompt.format(financial_concept='income tax')"
   ]
  },
  {
   "cell_type": "code",
   "execution_count": 3,
   "metadata": {},
   "outputs": [
    {
     "name": "stderr",
     "output_type": "stream",
     "text": [
      "d:\\deeplearning\\AI_projects\\langchain_1\\myenv\\lib\\site-packages\\langchain_core\\_api\\deprecation.py:119: LangChainDeprecationWarning: The class `OpenAI` was deprecated in LangChain 0.0.10 and will be removed in 0.3.0. An updated version of the class exists in the langchain-openai package and should be used instead. To use it run `pip install -U langchain-openai` and import as `from langchain_openai import OpenAI`.\n",
      "  warn_deprecated(\n",
      "d:\\deeplearning\\AI_projects\\langchain_1\\myenv\\lib\\site-packages\\langchain_core\\_api\\deprecation.py:119: LangChainDeprecationWarning: The class `LLMChain` was deprecated in LangChain 0.1.17 and will be removed in 0.3.0. Use RunnableSequence, e.g., `prompt | llm` instead.\n",
      "  warn_deprecated(\n"
     ]
    }
   ],
   "source": [
    "from langchain.llms import OpenAI\n",
    "from langchain.chains import LLMChain\n",
    "\n",
    "llm=OpenAI(temperature=0.7)\n",
    "chain1=LLMChain(llm=llm,prompt=prompt)"
   ]
  },
  {
   "cell_type": "code",
   "execution_count": 5,
   "metadata": {},
   "outputs": [
    {
     "data": {
      "text/plain": [
       "\"\\n\\nAs a financial advisor, it is important for you to understand the basics of GDP or Gross Domestic Product. GDP is a measure of a country's economic performance and it represents the total value of all goods and services produced within the borders of a country within a specific period of time, usually a year.\\n\\nGDP is calculated by adding up the value of all final goods and services produced in a country. This includes everything from food and clothing to cars and houses. It also takes into account the value of services such as healthcare, education, and transportation.\\n\\nThere are two ways to measure GDP: through the expenditure approach and the income approach. The expenditure approach adds up the total amount of money spent on goods and services in a country, while the income approach calculates the total income earned by individuals and businesses in a country.\\n\\nGDP is an important indicator of a country's economic health as it reflects the overall level of economic activity and growth. A higher GDP usually indicates a stronger economy, while a lower GDP suggests a weaker economy.\\n\\nIt is also worth noting that GDP per capita, which is calculated by dividing the total GDP by the population, gives a better understanding of the standard of living in a country. A higher GDP per capita means that, on average, each person in the\""
      ]
     },
     "execution_count": 5,
     "metadata": {},
     "output_type": "execute_result"
    }
   ],
   "source": [
    "chain1.run('GDP')"
   ]
  },
  {
   "cell_type": "code",
   "execution_count": 10,
   "metadata": {},
   "outputs": [
    {
     "data": {
      "text/plain": [
       "{'sentence': 'hello,how are you?',\n",
       " 'target_language': 'sanskrit',\n",
       " 'text': '\\n\\nनमस्ते, कथमस्ति भवान्? (Namaste, kathamasti bhavan?)'}"
      ]
     },
     "execution_count": 10,
     "metadata": {},
     "output_type": "execute_result"
    }
   ],
   "source": [
    "from langchain import PromptTemplate\n",
    "\n",
    "template='''In an easy way translate the following sentence '{sentence}' into {target_language}'''\n",
    "language_prompt=PromptTemplate(\n",
    "    input_variables=[\"sentence\",'target_language'],\n",
    "    template=template,\n",
    ")\n",
    "\n",
    "language_prompt.format(sentence='How are you',target_language='hindi')\n",
    "chain2=LLMChain(llm=llm,prompt=language_prompt)\n",
    "\n",
    "chain2({'sentence':\"hello,how are you?\",'target_language':\"sanskrit\"})"
   ]
  }
 ],
 "metadata": {
  "kernelspec": {
   "display_name": "Python 3",
   "language": "python",
   "name": "python3"
  },
  "language_info": {
   "codemirror_mode": {
    "name": "ipython",
    "version": 3
   },
   "file_extension": ".py",
   "mimetype": "text/x-python",
   "name": "python",
   "nbconvert_exporter": "python",
   "pygments_lexer": "ipython3",
   "version": "3.9.19"
  }
 },
 "nbformat": 4,
 "nbformat_minor": 2
}
